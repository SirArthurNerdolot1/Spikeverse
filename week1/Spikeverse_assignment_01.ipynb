{
 "cells": [
  {
   "cell_type": "code",
   "execution_count": 1,
   "id": "a60c4a86",
   "metadata": {},
   "outputs": [],
   "source": [
    "import numpy as np\n",
    "import matplotlib.pyplot as plt"
   ]
  },
  {
   "cell_type": "markdown",
   "id": "be82d16d",
   "metadata": {},
   "source": [
    "# Task 1"
   ]
  },
  {
   "cell_type": "code",
   "execution_count": 2,
   "id": "e5bc0809",
   "metadata": {},
   "outputs": [],
   "source": [
    "def init_q_table(n_states,n_actions):\n",
    "    return np.zeros((n_states,n_actions))"
   ]
  },
  {
   "cell_type": "code",
   "execution_count": 3,
   "id": "f64777de",
   "metadata": {},
   "outputs": [],
   "source": [
    "def q_update(Q, s, a, r, s_next, alpha, gamma):\n",
    "    max_q_next=np.max((Q[s_next[0],s_next[1]]))\n",
    "    Q[s[0],s[1],a]+=alpha*(r+gamma*max_q_next-Q[s[0],s[1],a])\n",
    "    return Q"
   ]
  },
  {
   "cell_type": "markdown",
   "id": "95930a9d",
   "metadata": {},
   "source": [
    "# Task 2"
   ]
  },
  {
   "cell_type": "code",
   "execution_count": 4,
   "id": "5e930c4f",
   "metadata": {},
   "outputs": [],
   "source": [
    "def init_q_table(n_states,n_actions):\n",
    "    return np.zeros((n_states,n_actions))"
   ]
  },
  {
   "cell_type": "code",
   "execution_count": 5,
   "id": "fb0742a5",
   "metadata": {},
   "outputs": [],
   "source": [
    "GRID_SIZE=int(input(\"Enter grid size (e.g., 4 for 4x4): \"))\n",
    "actions=['up','right','down','left']\n",
    "action_to_change={\n",
    "    0: (0, -1),  # up\n",
    "    1: (1, 0),   # right\n",
    "    2: (0, 1),   # down\n",
    "    3: (-1, 0)   # left\n",
    "}\n",
    " # 0: up, 1: right, 2: down, 3: left\n",
    "terminal_states=[(GRID_SIZE-1,GRID_SIZE-1)]\n"
   ]
  },
  {
   "cell_type": "code",
   "execution_count": 6,
   "id": "c02135b6",
   "metadata": {},
   "outputs": [],
   "source": [
    "def step(state,action):\n",
    "    if state in terminal_states:\n",
    "        return state, 0.0, True\n",
    "    dx,dy=action_to_change[action]\n",
    "    new_state=(max(0,min(GRID_SIZE-1,state[0]+dx)),max(0,min(GRID_SIZE-1,state[1]+dy)))\n",
    "    if new_state == (GRID_SIZE-1,GRID_SIZE-1):\n",
    "        return new_state, 10.0, True\n",
    "    else:\n",
    "        return new_state, -1.0, False\n",
    "    \n"
   ]
  },
  {
   "cell_type": "code",
   "execution_count": 7,
   "id": "d4db3773",
   "metadata": {},
   "outputs": [],
   "source": [
    "def greedy_policy(Q, state,epsilon):\n",
    "    if np.random.rand()<epsilon:\n",
    "        return np.random.choice(4)\n",
    "    else:\n",
    "        return np.argmax(Q[state[0],state[1]])"
   ]
  },
  {
   "cell_type": "code",
   "execution_count": 8,
   "id": "640263fe",
   "metadata": {},
   "outputs": [],
   "source": [
    "def q_update(Q, s, a, r, s_next, alpha, gamma):\n",
    "    max_q_next=np.max((Q[s_next[0],s_next[1]]))\n",
    "    Q[s[0],s[1],a]+=alpha*(r+gamma*max_q_next-Q[s[0],s[1],a])\n",
    "    return Q"
   ]
  },
  {
   "cell_type": "code",
   "execution_count": 9,
   "id": "b8da7e46",
   "metadata": {},
   "outputs": [],
   "source": [
    "def train(epsilon,alpha=0.1,gamma=0.99,episodes=500):\n",
    "    Q=np.zeros((GRID_SIZE,GRID_SIZE,4))\n",
    "    rewards=[]\n",
    "    \n",
    "    for episode in range(episodes):\n",
    "        state=(0,0)\n",
    "        total_reward=0\n",
    "        done=False\n",
    "        while not done:\n",
    "            action=greedy_policy(Q,state,epsilon)\n",
    "            next_state,reward,done=step(state,action)\n",
    "            Q=q_update(Q, state, action, reward, next_state, alpha, gamma)\n",
    "            state=next_state\n",
    "            total_reward+=reward\n",
    "        rewards.append(total_reward) \n",
    "        if (episode + 1) % 50 == 0:\n",
    "            avg = np.mean(rewards[-50:])\n",
    "            print(f\"Episode {episode + 1}, Avg Reward (last 50): {avg:.2f}\")       \n",
    "    return Q, rewards"
   ]
  },
  {
   "cell_type": "code",
   "execution_count": 10,
   "id": "c5bd3606",
   "metadata": {},
   "outputs": [
    {
     "name": "stdout",
     "output_type": "stream",
     "text": [
      "Episode 50, Avg Reward (last 50): -0.50\n",
      "Episode 100, Avg Reward (last 50): 4.60\n",
      "Episode 150, Avg Reward (last 50): 4.26\n",
      "Episode 200, Avg Reward (last 50): 4.34\n",
      "Episode 250, Avg Reward (last 50): 4.28\n",
      "Episode 300, Avg Reward (last 50): 4.44\n",
      "Episode 350, Avg Reward (last 50): 4.52\n",
      "Episode 400, Avg Reward (last 50): 4.28\n",
      "Episode 450, Avg Reward (last 50): 4.44\n",
      "Episode 500, Avg Reward (last 50): 4.24\n",
      "Trained Q-Table:\n",
      "[[[ 2.27993848  4.60890549 -0.07896643  1.37403872]\n",
      "  [-0.91898214  5.2772428  -1.21620178 -0.37273993]\n",
      "  [-0.69190275 -0.62818916 -0.73642069 -0.79107621]\n",
      "  [-0.43603499 -0.34881952 -0.3994004  -0.3994004 ]]\n",
      "\n",
      " [[ 1.92983162  1.66245804  5.6655611   1.55848849]\n",
      "  [ 2.91569067  6.73289     0.50590162  2.96688613]\n",
      "  [-0.44169616  4.06239051 -0.39976345 -0.44198067]\n",
      "  [-0.30851298  0.96027146 -0.1        -0.1       ]]\n",
      "\n",
      " [[-0.59628647 -0.49278555  5.73263291 -0.69521841]\n",
      "  [ 1.5870951   7.811       4.94344124  4.30995451]\n",
      "  [ 0.39280672  8.67587694 -0.1        -0.1       ]\n",
      "  [-0.1         5.217031    0.          0.        ]]\n",
      "\n",
      " [[-0.2997001  -0.2997001   6.24208905 -0.30958031]\n",
      "  [ 2.69247189  5.46245224  8.9         5.23040275]\n",
      "  [ 5.41451745  6.56467907 10.          3.81540052]\n",
      "  [ 0.          0.          0.          0.        ]]]\n",
      "Rewards per episode:\n",
      "[-52.0, -14.0, -9.0, 5.0, -23.0, 3.0, 3.0, 4.0, -2.0, -8.0, -9.0, -6.0, -2.0, 4.0, -10.0, 4.0, 1.0, 4.0, -4.0, 2.0, 5.0, 5.0, -9.0, 4.0, -5.0, -2.0, 3.0, 5.0, 4.0, 3.0, 5.0, 5.0, -3.0, 4.0, 5.0, 4.0, 0.0, 5.0, 5.0, 5.0, 5.0, -2.0, 1.0, 5.0, 5.0, 5.0, 5.0, 5.0, 2.0, 5.0, 5.0, 5.0, 3.0, 5.0, 3.0, 3.0, 5.0, 5.0, 4.0, 5.0, 5.0, 3.0, 3.0, 5.0, 4.0, 5.0, 5.0, 5.0, 5.0, 5.0, 5.0, 5.0, 5.0, 5.0, 5.0, 5.0, 5.0, 5.0, 3.0, 5.0, 5.0, 5.0, 5.0, 5.0, 5.0, 5.0, 5.0, 5.0, 5.0, 5.0, 5.0, 4.0, 3.0, 3.0, 5.0, 4.0, 5.0, 5.0, 5.0, 5.0, 3.0, 3.0, 4.0, 5.0, 5.0, 5.0, 5.0, 5.0, 1.0, 5.0, 5.0, 5.0, 4.0, 5.0, 3.0, 3.0, 3.0, 1.0, 4.0, 5.0, 5.0, 5.0, 5.0, 3.0, 2.0, 3.0, 5.0, 5.0, 0.0, 5.0, 5.0, 4.0, 3.0, 5.0, 5.0, 5.0, 5.0, 5.0, 5.0, 5.0, 5.0, 5.0, 5.0, 5.0, 5.0, 5.0, 4.0, 5.0, 5.0, 5.0, 5.0, 3.0, 5.0, 5.0, 5.0, 5.0, 5.0, 3.0, 5.0, 5.0, 5.0, 5.0, 2.0, 3.0, 5.0, 5.0, 5.0, 3.0, 5.0, 5.0, 5.0, 4.0, 5.0, 4.0, 4.0, 5.0, 5.0, 3.0, 3.0, 5.0, 5.0, 3.0, 5.0, 5.0, 2.0, 5.0, 3.0, 5.0, 3.0, 5.0, 3.0, 5.0, 5.0, 3.0, 5.0, 4.0, 5.0, 5.0, 5.0, 4.0, 5.0, 3.0, 5.0, 4.0, 2.0, 5.0, 5.0, 5.0, 3.0, 5.0, 5.0, 4.0, 5.0, 3.0, 3.0, 5.0, 3.0, 4.0, 3.0, 4.0, 5.0, 4.0, 3.0, 3.0, 4.0, 5.0, 3.0, 4.0, 5.0, 3.0, 5.0, 5.0, 5.0, 3.0, 5.0, 5.0, 5.0, 5.0, 5.0, 5.0, 5.0, 5.0, 4.0, 5.0, 5.0, 5.0, 5.0, 5.0, 4.0, 3.0, 5.0, 4.0, 5.0, 5.0, 5.0, 4.0, 5.0, 5.0, 4.0, 5.0, 5.0, 2.0, 5.0, 3.0, 5.0, 3.0, 5.0, 5.0, 5.0, 5.0, 5.0, 5.0, 5.0, 5.0, 3.0, 5.0, 5.0, 5.0, 1.0, 5.0, 5.0, 5.0, 5.0, 4.0, 5.0, 5.0, 5.0, 3.0, 5.0, 5.0, 5.0, 2.0, 5.0, 5.0, 5.0, 5.0, 5.0, 3.0, 1.0, 5.0, 5.0, 3.0, 5.0, 5.0, 5.0, 5.0, 5.0, 5.0, 5.0, 5.0, 2.0, 5.0, 3.0, 5.0, 5.0, 5.0, 5.0, 5.0, 3.0, 3.0, 5.0, 5.0, 5.0, 5.0, 5.0, 3.0, 5.0, 5.0, 5.0, 3.0, 5.0, 5.0, 5.0, 5.0, 3.0, 5.0, 3.0, 5.0, 5.0, 5.0, 5.0, 5.0, 5.0, 3.0, 2.0, 5.0, 5.0, 5.0, 5.0, 5.0, 5.0, 5.0, 5.0, 5.0, 5.0, 5.0, 3.0, 1.0, 5.0, 5.0, 5.0, 1.0, 3.0, 5.0, 4.0, 5.0, 5.0, 5.0, 2.0, 3.0, 5.0, 5.0, 3.0, 5.0, 5.0, 3.0, 5.0, 5.0, 4.0, 5.0, 3.0, 5.0, 5.0, 1.0, 5.0, 5.0, 3.0, 3.0, 5.0, 4.0, 5.0, 5.0, 3.0, 5.0, 5.0, 5.0, 5.0, 5.0, 5.0, 5.0, 5.0, 5.0, 5.0, 5.0, 5.0, 5.0, 5.0, 5.0, 5.0, 5.0, 5.0, 5.0, 3.0, 5.0, 3.0, 5.0, 4.0, 5.0, 5.0, 5.0, 3.0, 5.0, 4.0, 4.0, 5.0, 3.0, 4.0, 5.0, 5.0, 5.0, 4.0, 5.0, 3.0, 5.0, 3.0, 5.0, 1.0, 5.0, 5.0, 5.0, 5.0, 3.0, 5.0, 3.0, 5.0, 3.0, 5.0, 4.0, 5.0, 5.0, 5.0, 5.0, 4.0, 5.0, 5.0, 3.0, 5.0, 5.0, 1.0, 5.0, 5.0, 3.0, 3.0, 5.0, 5.0, 2.0, 5.0, 3.0, 4.0, 5.0, 5.0, 5.0, 5.0, 3.0, 5.0, 5.0, 5.0, 2.0, 5.0, 3.0, 5.0, 4.0, 3.0, 4.0, 3.0, 5.0, 5.0, 3.0, 5.0, 5.0, 5.0, 3.0, 5.0, 5.0, 5.0, 3.0, 5.0, 5.0, 3.0, 5.0]\n"
     ]
    }
   ],
   "source": [
    "def main():\n",
    "    epsilon=0.1\n",
    "    alpha=0.1\n",
    "    gamma=0.99\n",
    "    episodes=500\n",
    "    Q, rewards=train(epsilon,alpha,gamma,episodes)\n",
    "    print(\"Trained Q-Table:\")\n",
    "    print(Q)\n",
    "    print(\"Rewards per episode:\")\n",
    "    print(rewards)\n",
    "\n",
    "if __name__==\"__main__\":\n",
    "    main()\n",
    "\n"
   ]
  },
  {
   "cell_type": "code",
   "execution_count": 11,
   "id": "a50c998f",
   "metadata": {},
   "outputs": [],
   "source": [
    "def moving_average(data, window_size=50):\n",
    "    return np.convolve(data, np.ones(window_size)/window_size, 'valid')"
   ]
  },
  {
   "cell_type": "code",
   "execution_count": 12,
   "id": "e1c34751",
   "metadata": {},
   "outputs": [
    {
     "name": "stdout",
     "output_type": "stream",
     "text": [
      "Training for epsilon=0.1\n",
      "Episode 50, Avg Reward (last 50): -0.38\n",
      "Episode 100, Avg Reward (last 50): 4.54\n",
      "Episode 150, Avg Reward (last 50): 4.02\n",
      "Episode 200, Avg Reward (last 50): 4.64\n",
      "Episode 250, Avg Reward (last 50): 4.18\n",
      "Episode 300, Avg Reward (last 50): 3.90\n",
      "Episode 350, Avg Reward (last 50): 4.20\n",
      "Episode 400, Avg Reward (last 50): 4.20\n",
      "Episode 450, Avg Reward (last 50): 4.44\n",
      "Episode 500, Avg Reward (last 50): 4.24\n",
      "Training for epsilon=0.2\n",
      "Episode 50, Avg Reward (last 50): -1.18\n",
      "Episode 100, Avg Reward (last 50): 3.84\n",
      "Episode 150, Avg Reward (last 50): 3.20\n",
      "Episode 200, Avg Reward (last 50): 3.62\n",
      "Episode 250, Avg Reward (last 50): 3.60\n",
      "Episode 300, Avg Reward (last 50): 3.54\n",
      "Episode 350, Avg Reward (last 50): 3.76\n",
      "Episode 400, Avg Reward (last 50): 3.68\n",
      "Episode 450, Avg Reward (last 50): 3.60\n",
      "Episode 500, Avg Reward (last 50): 4.20\n"
     ]
    },
    {
     "data": {
      "image/png": "[encoded data removed]",
      "text/plain": [
       "<Figure size 640x480 with 1 Axes>"
      ]
     },
     "metadata": {},
     "output_type": "display_data"
    }
   ],
   "source": [
    "print(\"Training for epsilon=0.1\")\n",
    "Q1,rewards_01=train(0.1,0.1,0.99,500)\n",
    "print(\"Training for epsilon=0.2\")\n",
    "Q2,rewards_02=train(0.2,0.1,0.9,500)\n",
    "ma_rewards_eps_01 = moving_average(rewards_01)\n",
    "ma_rewards_eps_02 = moving_average(rewards_02)\n",
    "import matplotlib.pyplot as plt \n",
    "plt.plot(ma_rewards_eps_01, label='ε = 0.1')\n",
    "plt.plot(ma_rewards_eps_02, label='ε = 0.2')\n",
    "plt.xlabel('Episode')\n",
    "plt.ylabel('Moving Average Reward')\n",
    "plt.title('Moving Average of Rewards per Episode for different ε values')   \n",
    "plt.legend()\n",
    "plt.grid(True)\n",
    "plt.tight_layout()\n",
    "plt.show()"
   ]
  },
  {
   "cell_type": "markdown",
   "id": "2d7ab605",
   "metadata": {},
   "source": [
    "# Task 3"
   ]
  },
  {
   "cell_type": "code",
   "execution_count": 13,
   "id": "d946a8c9",
   "metadata": {},
   "outputs": [],
   "source": [
    "import random \n",
    "class ReplayBuffer:\n",
    "    def __init__(self,capacity):\n",
    "        self.capacity=capacity\n",
    "        self.buffer=[]\n",
    "        self.position=0\n",
    "    def push(self,state,action,reward,next_state,done):\n",
    "        if len(self.buffer)<self.capacity:\n",
    "            self.buffer.append(None)\n",
    "        self.buffer[self.position]=(state,action,reward,next_state,done)\n",
    "        self.position=(self.position+1)%self.capacity\n",
    "    \n",
    "    def sample(self,batch_size):\n",
    "        batch=random.sample(self.buffer,batch_size)\n",
    "        states,actions,rewards,next_states,dones=map(np.array,zip(*batch))\n",
    "        return states,actions,rewards,next_states,dones\n",
    "    def __len__(self):\n",
    "        return len(self.buffer)"
   ]
  },
  {
   "cell_type": "code",
   "execution_count": 14,
   "id": "8c6ed2a0",
   "metadata": {},
   "outputs": [
    {
     "name": "stdout",
     "output_type": "stream",
     "text": [
      "States shape: (32, 2) | dtype: int64\n",
      "Actions shape: (32,) | dtype: int64\n",
      "Rewards shape: (32,) | dtype: float64\n",
      "Next_states shape: (32, 2) | dtype: int64\n",
      "Dones shape: (32,) | dtype: bool\n"
     ]
    }
   ],
   "source": [
    "buffer = ReplayBuffer(capacity=100)\n",
    "for i in range(100):\n",
    "    state=[random.randint(0,1000) for _ in range(2)]\n",
    "    action=random.randint(0,3)\n",
    "    reward=random.uniform(-1,1)\n",
    "    next_state=[random.randint(0,1000) for _ in range(2)]\n",
    "    done=random.choice([True,False])\n",
    "    buffer.push(state,action,reward,next_state,done)\n",
    "batch_size=32\n",
    "states, actions, rewards, next_states, dones = buffer.sample(batch_size)\n",
    "print(\"States shape:\", states.shape, \"| dtype:\", states.dtype)\n",
    "print(\"Actions shape:\", actions.shape, \"| dtype:\", actions.dtype)\n",
    "print(\"Rewards shape:\", rewards.shape, \"| dtype:\", rewards.dtype)\n",
    "print(\"Next_states shape:\", next_states.shape, \"| dtype:\", next_states.dtype)\n",
    "print(\"Dones shape:\", dones.shape, \"| dtype:\", dones.dtype)"
   ]
  },
  {
   "cell_type": "markdown",
   "id": "bfb1958d",
   "metadata": {},
   "source": [
    "# Task 4"
   ]
  },
  {
   "cell_type": "code",
   "execution_count": 15,
   "id": "81f1fe39",
   "metadata": {},
   "outputs": [],
   "source": [
    "import torch\n",
    "import torch.nn as nn\n",
    "import torch.nn.functional as fun \n",
    "import time"
   ]
  },
  {
   "cell_type": "code",
   "execution_count": 16,
   "id": "dbd00b80",
   "metadata": {},
   "outputs": [
    {
     "name": "stdout",
     "output_type": "stream",
     "text": [
      "tensor([[ 0.5739, -0.2316,  1.0064],\n",
      "        [ 0.0278,  2.2788,  0.4647],\n",
      "        [-0.6018, -0.6345,  0.1502]], device='mps:0')\n"
     ]
    }
   ],
   "source": [
    "import torch\n",
    "\n",
    "device = torch.device(\"mps\" if torch.backends.mps.is_available() else \"cpu\")\n",
    "\n",
    "my_tensor = torch.randn(3, 3) \n",
    "\n",
    "my_tensor = my_tensor.to(device)\n",
    "\n",
    "print(my_tensor)\n"
   ]
  },
  {
   "cell_type": "code",
   "execution_count": 17,
   "id": "841f75f1",
   "metadata": {},
   "outputs": [],
   "source": [
    "class DQNPolicy(nn.Module):\n",
    "    def __init__(self, dim, n_actions):\n",
    "        super(DQNPolicy,self).__init__()\n",
    "        self.layer_1=nn.Linear(dim,128)\n",
    "        self.layer_2=nn.Linear(128,128)\n",
    "        self.output=nn.Linear(128,n_actions)\n",
    "    def forward(self,x):\n",
    "        x=fun.relu(self.layer_1(x))\n",
    "        x=fun.relu(self.layer_2(x))\n",
    "        x=self.output(x)\n",
    "        return x\n",
    "\n"
   ]
  },
  {
   "cell_type": "code",
   "execution_count": 18,
   "id": "4908c5be",
   "metadata": {},
   "outputs": [],
   "source": [
    "class DQNTarget(nn.Module):\n",
    "    def __init__(self, dim, n_actions):\n",
    "        super(DQNTarget,self).__init__()\n",
    "        self.layer_1=nn.Linear(dim,128)\n",
    "        self.layer_2=nn.Linear(128,128)\n",
    "        self.output=nn.Linear(128,n_actions)\n",
    "    def forward(self,x):\n",
    "        x=fun.relu(self.layer_1(x))\n",
    "        x=fun.relu(self.layer_2(x))\n",
    "        x=self.output(x)\n",
    "        return x"
   ]
  },
  {
   "cell_type": "code",
   "execution_count": 19,
   "id": "89188d76",
   "metadata": {},
   "outputs": [],
   "source": [
    "def update_target(policy_net, target_net):\n",
    "    target_net.load_state_dict(policy_net.state_dict())"
   ]
  },
  {
   "cell_type": "markdown",
   "id": "88f0c8b6",
   "metadata": {},
   "source": [
    "# Task 5"
   ]
  },
  {
   "cell_type": "code",
   "execution_count": 20,
   "id": "b273c5d9",
   "metadata": {},
   "outputs": [],
   "source": [
    "import numpy as np\n",
    "import gym\n",
    "import torch\n",
    "import torch.nn as nn\n",
    "import torch.nn.functional as fun \n",
    "import time\n",
    "import torch.optim as optim"
   ]
  },
  {
   "cell_type": "code",
   "execution_count": 21,
   "id": "40ece4d8",
   "metadata": {},
   "outputs": [],
   "source": [
    "import gym\n",
    "\n",
    "env = gym.make('CartPole-v1')\n",
    "env.reset()\n",
    "\n",
    "try:\n",
    "    for _ in range(1000):\n",
    "        env.render()\n",
    "        action = env.action_space.sample()\n",
    "        obs, reward, done, info = env.step(action)\n",
    "        if done:\n",
    "            env.reset()\n",
    "finally:\n",
    "    env.close() "
   ]
  },
  {
   "cell_type": "code",
   "execution_count": 22,
   "id": "cd80e6af",
   "metadata": {},
   "outputs": [],
   "source": [
    "class DQNPolicy(nn.Module):\n",
    "    def __init__(self, dim, n_actions):\n",
    "        super(DQNPolicy,self).__init__()\n",
    "        self.layer_1=nn.Linear(dim,128)\n",
    "        self.layer_2=nn.Linear(128,128)\n",
    "        self.output=nn.Linear(128,n_actions)\n",
    "    def forward(self,x):\n",
    "        x=fun.relu(self.layer_1(x))\n",
    "        x=fun.relu(self.layer_2(x))\n",
    "        x=self.output(x)\n",
    "        return x"
   ]
  },
  {
   "cell_type": "code",
   "execution_count": 23,
   "id": "e704e758",
   "metadata": {},
   "outputs": [],
   "source": [
    "class DQNTarget(nn.Module):\n",
    "    def __init__(self, dim, n_actions):\n",
    "        super(DQNTarget,self).__init__()\n",
    "        self.layer_1=nn.Linear(dim,128)\n",
    "        self.layer_2=nn.Linear(128,128)\n",
    "        self.output=nn.Linear(128,n_actions)\n",
    "    def forward(self,x):\n",
    "        x=fun.relu(self.layer_1(x))\n",
    "        x=fun.relu(self.layer_2(x))\n",
    "        x=self.output(x)\n",
    "        return x"
   ]
  },
  {
   "cell_type": "code",
   "execution_count": 24,
   "id": "da836247",
   "metadata": {},
   "outputs": [],
   "source": [
    "def update_target(policy_net, target_net):\n",
    "    target_net.load_state_dict(policy_net.state_dict())"
   ]
  },
  {
   "cell_type": "code",
   "execution_count": 25,
   "id": "41e879eb",
   "metadata": {},
   "outputs": [],
   "source": [
    "dim=env.observation_space.shape[0]\n",
    "n_actions=env.action_space.n\n",
    "policy_net=DQNPolicy(dim,n_actions).to(device)\n",
    "target_net=DQNTarget(dim,n_actions).to(device)\n",
    "update_target(policy_net,target_net)"
   ]
  },
  {
   "cell_type": "code",
   "execution_count": 26,
   "id": "769f535d",
   "metadata": {},
   "outputs": [],
   "source": [
    "optimizer = optim.Adam(policy_net.parameters(), lr=1e-4)\n",
    "loss_fn = nn.MSELoss()\n",
    "Replay_Buffer=ReplayBuffer(capacity=10000)"
   ]
  },
  {
   "cell_type": "code",
   "execution_count": 27,
   "id": "04d2cb95",
   "metadata": {},
   "outputs": [],
   "source": [
    "# Hyperparameters\n",
    "N = 500  # total episodes\n",
    "M = N / 2  # epsilon decay over M episodes\n",
    "X = 10  # target network update frequency\n",
    "gamma = 0.99\n",
    "batch_size = 128\n",
    "epsilon = 1.0"
   ]
  },
  {
   "cell_type": "code",
   "execution_count": 28,
   "id": "091c0580",
   "metadata": {},
   "outputs": [
    {
     "name": "stdout",
     "output_type": "stream",
     "text": [
      "Episode 50, Avg Reward (last 50): 19.74\n",
      "Episode 100, Avg Reward (last 50): 39.32\n",
      "Episode 150, Avg Reward (last 50): 131.84\n",
      "Episode 200, Avg Reward (last 50): 256.14\n",
      "Episode 250, Avg Reward (last 50): 294.24\n",
      "Episode 300, Avg Reward (last 50): 233.50\n",
      "Episode 350, Avg Reward (last 50): 225.84\n",
      "Episode 400, Avg Reward (last 50): 217.08\n",
      "Episode 450, Avg Reward (last 50): 215.20\n",
      "Episode 500, Avg Reward (last 50): 208.96\n"
     ]
    }
   ],
   "source": [
    "epoch_rewards = []\n",
    "for epoch in range(N):\n",
    "    state=env.reset()[0] if isinstance(env.reset(), tuple) else env.reset()\n",
    "    done=False\n",
    "    total_reward=0\n",
    "    epsilon=max(0.01,1-(epoch/M))\n",
    "    while not done:\n",
    "        if np.random.rand()<epsilon:\n",
    "            action=env.action_space.sample()\n",
    "        else:\n",
    "            with torch.no_grad():\n",
    "                state_tensor = torch.FloatTensor(state).unsqueeze(0).to(device)    \n",
    "                q_values = policy_net(state_tensor)\n",
    "                action = torch.argmax(q_values).item()\n",
    "        next_state, reward, done, info = env.step(action)\n",
    "        Replay_Buffer.push(state, action, reward, next_state, done)\n",
    "        state=next_state\n",
    "        total_reward+=reward\n",
    "        if len(Replay_Buffer) >= batch_size:\n",
    "            states, actions, rewards, next_states, dones = Replay_Buffer.sample(batch_size)\n",
    "            states = torch.FloatTensor(states).to(device)\n",
    "            actions = torch.LongTensor(actions).unsqueeze(1).to(device)\n",
    "            rewards = torch.FloatTensor(rewards).to(device)\n",
    "            next_states = torch.FloatTensor(next_states).to(device)\n",
    "            dones = torch.FloatTensor(dones).to(device)\n",
    "            q_values = policy_net(states).gather(1, actions).squeeze(1)\n",
    "\n",
    "            next_q_values = target_net(next_states).max(1)[0]\n",
    "            target_q_values = rewards + gamma * next_q_values.detach() * (1 - dones)\n",
    "            loss=loss_fn(q_values, target_q_values)\n",
    "            optimizer.zero_grad()\n",
    "            loss.backward()\n",
    "            optimizer.step()\n",
    "    epoch_rewards.append(total_reward)    \n",
    "    if epoch % X == 0:\n",
    "        update_target(policy_net, target_net)\n",
    "    if (epoch + 1) % 50 == 0:\n",
    "        avg = np.mean(epoch_rewards[-50:])\n",
    "        print(f\"Episode {epoch + 1}, Avg Reward (last 50): {avg:.2f}\")"
   ]
  },
  {
   "cell_type": "code",
   "execution_count": 29,
   "id": "ef1def85",
   "metadata": {},
   "outputs": [
    {
     "data": {
      "image/png": "[encoded data removed]",
      "text/plain": [
       "<Figure size 640x480 with 1 Axes>"
      ]
     },
     "metadata": {},
     "output_type": "display_data"
    }
   ],
   "source": [
    "window = N // 10\n",
    "moving_avg = [np.mean(epoch_rewards[i-window:i+1]) if i >= window else np.mean(epoch_rewards[:i+1]) for i in range(N)]\n",
    "plt.plot(moving_avg)\n",
    "plt.title(\"Moving Average Reward\")\n",
    "plt.xlabel(\"Episode\")\n",
    "plt.ylabel(\"Average Reward\")\n",
    "plt.grid()\n",
    "plt.show()"
   ]
  },
  {
   "cell_type": "code",
   "execution_count": 30,
   "id": "fb2a021a",
   "metadata": {},
   "outputs": [
    {
     "name": "stdout",
     "output_type": "stream",
     "text": [
      "Final Success Rate: 70.00%\n"
     ]
    }
   ],
   "source": [
    "success_count = sum([r >= 195 for r in epoch_rewards])\n",
    "success_rate = 100.0 * success_count / N\n",
    "print(f\"Final Success Rate: {success_rate:.2f}%\")"
   ]
  }
 ],
 "metadata": {
  "kernelspec": {
   "display_name": "spikeverse",
   "language": "python",
   "name": "python3"
  },
  "language_info": {
   "codemirror_mode": {
    "name": "ipython",
    "version": 3
   },
   "file_extension": ".py",
   "mimetype": "text/x-python",
   "name": "python",
   "nbconvert_exporter": "python",
   "pygments_lexer": "ipython3",
   "version": "3.10.16"
  }
 },
 "nbformat": 4,
 "nbformat_minor": 5
}
